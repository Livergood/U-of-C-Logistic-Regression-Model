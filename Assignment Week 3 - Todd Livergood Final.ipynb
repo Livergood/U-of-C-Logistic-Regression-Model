{
 "cells": [
  {
   "cell_type": "markdown",
   "metadata": {},
   "source": [
    "Week 3 Assignment - by Todd Livergood\n",
    "September 25, 2019"
   ]
  },
  {
   "cell_type": "markdown",
   "metadata": {},
   "source": [
    "1.)  First import all libraries that I might be using"
   ]
  },
  {
   "cell_type": "code",
   "execution_count": 1,
   "metadata": {},
   "outputs": [],
   "source": [
    "import statistics as stats\n",
    "import statsmodels.api as sm\n",
    "import pandas as pd\n",
    "from sklearn.model_selection import train_test_split\n",
    "import numpy as np\n",
    "from sklearn.metrics import roc_curve, roc_auc_score, accuracy_score, confusion_matrix\n",
    "import matplotlib.pyplot as plt\n",
    "%matplotlib inline"
   ]
  },
  {
   "cell_type": "markdown",
   "metadata": {},
   "source": [
    "2.) Read in .csv file and put into dataframe"
   ]
  },
  {
   "cell_type": "code",
   "execution_count": 3,
   "metadata": {},
   "outputs": [],
   "source": [
    "df = pd.read_csv(\"titanic_dataset.csv\")"
   ]
  },
  {
   "cell_type": "markdown",
   "metadata": {},
   "source": [
    "3.) There are a few variables where we know we don't need.  Intuitively these would not be expected\n",
    "to have any predicive value to survival; Going to drop those."
   ]
  },
  {
   "cell_type": "code",
   "execution_count": 4,
   "metadata": {},
   "outputs": [],
   "source": [
    "df.drop(['PassengerId','Name','Ticket','Cabin'], axis=1, inplace=True)"
   ]
  },
  {
   "cell_type": "markdown",
   "metadata": {},
   "source": [
    "4.) There are various minipulations we need to do to some of the data first:"
   ]
  },
  {
   "cell_type": "markdown",
   "metadata": {},
   "source": [
    "4a.)  Replace blank age values with median values"
   ]
  },
  {
   "cell_type": "code",
   "execution_count": 5,
   "metadata": {},
   "outputs": [],
   "source": [
    "df['Age'].fillna(df['Age'].median(), inplace=True)"
   ]
  },
  {
   "cell_type": "markdown",
   "metadata": {},
   "source": [
    "4b.) Transform the Embarked variable because it's categorical, using dummy indicators"
   ]
  },
  {
   "cell_type": "code",
   "execution_count": 6,
   "metadata": {},
   "outputs": [],
   "source": [
    "dummy_ranks = pd.get_dummies(df['Embarked'], prefix='Loc_Embarked')\n",
    "df = df.join(dummy_ranks.drop(\"Loc_Embarked_S\", axis=1))\n",
    "df.drop(\"Embarked\", axis=1, inplace=True)"
   ]
  },
  {
   "cell_type": "markdown",
   "metadata": {},
   "source": [
    "4c.) We also want to transform the Sex variable to numeric"
   ]
  },
  {
   "cell_type": "code",
   "execution_count": 7,
   "metadata": {},
   "outputs": [],
   "source": [
    "dummy_ranks2 = pd.get_dummies(df['Sex'], prefix='Sex_')\n",
    "df = df.join(dummy_ranks2.drop(\"Sex__female\", axis=1))\n",
    "df.drop(\"Sex\", axis=1, inplace=True)"
   ]
  },
  {
   "cell_type": "markdown",
   "metadata": {},
   "source": [
    "5.)  Next, assign test and train datasets, and add constnt term to both X datasets"
   ]
  },
  {
   "cell_type": "code",
   "execution_count": 8,
   "metadata": {},
   "outputs": [
    {
     "name": "stderr",
     "output_type": "stream",
     "text": [
      "C:\\Users\\Todd\\Anaconda3\\lib\\site-packages\\numpy\\core\\fromnumeric.py:2389: FutureWarning: Method .ptp is deprecated and will be removed in a future version. Use numpy.ptp instead.\n",
      "  return ptp(axis=axis, out=out, **kwargs)\n"
     ]
    }
   ],
   "source": [
    "X_train, X_test, Y_train, Y_test = train_test_split(df.drop('Survived', axis=1),df['Survived'],test_size=0.2, random_state=156)\n",
    "X_train = sm.add_constant(X_train)\n",
    "X_test = sm.add_constant(X_test)\n"
   ]
  },
  {
   "cell_type": "markdown",
   "metadata": {},
   "source": [
    "6.) Now fit the logistic regression model and view the results"
   ]
  },
  {
   "cell_type": "code",
   "execution_count": 9,
   "metadata": {},
   "outputs": [
    {
     "name": "stdout",
     "output_type": "stream",
     "text": [
      "               Results: Generalized linear model\n",
      "===============================================================\n",
      "Model:              GLM              AIC:            644.0365  \n",
      "Link Function:      logit            BIC:            -3991.3222\n",
      "Dependent Variable: Survived         Log-Likelihood: -313.02   \n",
      "Date:               2019-09-25 12:16 LL-Null:        -472.54   \n",
      "No. Observations:   712              Deviance:       626.04    \n",
      "Df Model:           8                Pearson chi2:   728.      \n",
      "Df Residuals:       703              Scale:          1.0000    \n",
      "Method:             IRLS                                       \n",
      "---------------------------------------------------------------\n",
      "                Coef.  Std.Err.    z     P>|z|   [0.025  0.975]\n",
      "---------------------------------------------------------------\n",
      "const           5.0427   0.6074   8.3018 0.0000  3.8522  6.2332\n",
      "Pclass         -1.1522   0.1631  -7.0626 0.0000 -1.4720 -0.8325\n",
      "Age            -0.0404   0.0086  -4.6839 0.0000 -0.0574 -0.0235\n",
      "SibSp          -0.3267   0.1221  -2.6757 0.0075 -0.5661 -0.0874\n",
      "Parch          -0.1028   0.1286  -0.7993 0.4241 -0.3548  0.1492\n",
      "Fare            0.0005   0.0024   0.2316 0.8169 -0.0041  0.0052\n",
      "Loc_Embarked_C  0.5713   0.2647   2.1582 0.0309  0.0525  1.0901\n",
      "Loc_Embarked_Q  0.2698   0.3814   0.7073 0.4794 -0.4778  1.0173\n",
      "Sex__male      -2.7940   0.2273 -12.2914 0.0000 -3.2396 -2.3485\n",
      "===============================================================\n",
      "\n"
     ]
    }
   ],
   "source": [
    "model1 = sm.GLM(Y_train, X_train, family=sm.families.Binomial())\n",
    "result=model1.fit()\n",
    "print(result.summary2())"
   ]
  },
  {
   "cell_type": "markdown",
   "metadata": {},
   "source": [
    "The AIC is 644.0365, and the Deviance is 626.04.  It looks like there are a few predictors\n",
    "whose p-value is above 0.05, indicating that these aren't significant at the 5% confidence level.  We'll use Backward Elimination to remove the ones with the highest p-values first, and refit model each time to see how it looks."
   ]
  },
  {
   "cell_type": "markdown",
   "metadata": {},
   "source": [
    "6a.) Will eliminate the \"Fare\" predictor, at 5% confidence level it is insignificant"
   ]
  },
  {
   "cell_type": "code",
   "execution_count": 10,
   "metadata": {},
   "outputs": [
    {
     "name": "stdout",
     "output_type": "stream",
     "text": [
      "               Results: Generalized linear model\n",
      "===============================================================\n",
      "Model:              GLM              AIC:            642.0908  \n",
      "Link Function:      logit            BIC:            -3997.8361\n",
      "Dependent Variable: Survived         Log-Likelihood: -313.05   \n",
      "Date:               2019-09-25 12:16 LL-Null:        -472.54   \n",
      "No. Observations:   712              Deviance:       626.09    \n",
      "Df Model:           7                Pearson chi2:   728.      \n",
      "Df Residuals:       704              Scale:          1.0000    \n",
      "Method:             IRLS                                       \n",
      "---------------------------------------------------------------\n",
      "                Coef.  Std.Err.    z     P>|z|   [0.025  0.975]\n",
      "---------------------------------------------------------------\n",
      "const           5.0972   0.5604   9.0950 0.0000  3.9988  6.1957\n",
      "Pclass         -1.1703   0.1434  -8.1591 0.0000 -1.4515 -0.8892\n",
      "Age            -0.0406   0.0086  -4.7048 0.0000 -0.0575 -0.0237\n",
      "SibSp          -0.3237   0.1214  -2.6656 0.0077 -0.5617 -0.0857\n",
      "Parch          -0.0966   0.1258  -0.7679 0.4426 -0.3431  0.1499\n",
      "Loc_Embarked_C  0.5847   0.2582   2.2643 0.0236  0.0786  1.0908\n",
      "Loc_Embarked_Q  0.2761   0.3806   0.7256 0.4681 -0.4697  1.0220\n",
      "Sex__male      -2.7951   0.2273 -12.2971 0.0000 -3.2406 -2.3496\n",
      "===============================================================\n",
      "\n"
     ]
    }
   ],
   "source": [
    "X_train.drop(\"Fare\", axis=1, inplace=True)\n",
    "print(sm.GLM(Y_train, X_train, family=sm.families.Binomial()).fit().summary2())"
   ]
  },
  {
   "cell_type": "markdown",
   "metadata": {},
   "source": [
    "6b.) Will eliminate the \"Embarked from Queenstown\" predictor, at 5% confidence level it is insignificant"
   ]
  },
  {
   "cell_type": "code",
   "execution_count": 11,
   "metadata": {},
   "outputs": [
    {
     "name": "stdout",
     "output_type": "stream",
     "text": [
      "               Results: Generalized linear model\n",
      "===============================================================\n",
      "Model:              GLM              AIC:            640.6128  \n",
      "Link Function:      logit            BIC:            -4003.8821\n",
      "Dependent Variable: Survived         Log-Likelihood: -313.31   \n",
      "Date:               2019-09-25 12:17 LL-Null:        -472.54   \n",
      "No. Observations:   712              Deviance:       626.61    \n",
      "Df Model:           6                Pearson chi2:   722.      \n",
      "Df Residuals:       705              Scale:          1.0000    \n",
      "Method:             IRLS                                       \n",
      "---------------------------------------------------------------\n",
      "                Coef.  Std.Err.    z     P>|z|   [0.025  0.975]\n",
      "---------------------------------------------------------------\n",
      "const           5.0901   0.5605   9.0817 0.0000  3.9916  6.1886\n",
      "Pclass         -1.1490   0.1400  -8.2043 0.0000 -1.4235 -0.8745\n",
      "Age            -0.0403   0.0086  -4.6788 0.0000 -0.0572 -0.0234\n",
      "SibSp          -0.3303   0.1216  -2.7155 0.0066 -0.5687 -0.0919\n",
      "Parch          -0.1069   0.1252  -0.8534 0.3934 -0.3522  0.1385\n",
      "Loc_Embarked_C  0.5662   0.2569   2.2042 0.0275  0.0627  1.0697\n",
      "Sex__male      -2.8182   0.2258 -12.4789 0.0000 -3.2609 -2.3756\n",
      "===============================================================\n",
      "\n"
     ]
    }
   ],
   "source": [
    "X_train.drop(\"Loc_Embarked_Q\", axis=1, inplace=True)\n",
    "print(sm.GLM(Y_train, X_train, family=sm.families.Binomial()).fit().summary2())"
   ]
  },
  {
   "cell_type": "markdown",
   "metadata": {},
   "source": [
    "6c.) Will eliminate the \"# of parents/children aboard the Titanic\" predictor, at 5% confidence level it is insignificant"
   ]
  },
  {
   "cell_type": "code",
   "execution_count": 12,
   "metadata": {},
   "outputs": [
    {
     "name": "stdout",
     "output_type": "stream",
     "text": [
      "               Results: Generalized linear model\n",
      "===============================================================\n",
      "Model:              GLM              AIC:            639.3582  \n",
      "Link Function:      logit            BIC:            -4009.7048\n",
      "Dependent Variable: Survived         Log-Likelihood: -313.68   \n",
      "Date:               2019-09-25 12:17 LL-Null:        -472.54   \n",
      "No. Observations:   712              Deviance:       627.36    \n",
      "Df Model:           5                Pearson chi2:   725.      \n",
      "Df Residuals:       706              Scale:          1.0000    \n",
      "Method:             IRLS                                       \n",
      "---------------------------------------------------------------\n",
      "                Coef.  Std.Err.    z     P>|z|   [0.025  0.975]\n",
      "---------------------------------------------------------------\n",
      "const           5.0312   0.5561   9.0472 0.0000  3.9413  6.1212\n",
      "Pclass         -1.1513   0.1402  -8.2120 0.0000 -1.4261 -0.8765\n",
      "Age            -0.0399   0.0086  -4.6569 0.0000 -0.0568 -0.0231\n",
      "SibSp          -0.3602   0.1174  -3.0681 0.0022 -0.5902 -0.1301\n",
      "Loc_Embarked_C  0.5577   0.2567   2.1727 0.0298  0.0546  1.0609\n",
      "Sex__male      -2.7772   0.2198 -12.6344 0.0000 -3.2080 -2.3464\n",
      "===============================================================\n",
      "\n"
     ]
    }
   ],
   "source": [
    "X_train.drop(\"Parch\", axis=1, inplace=True)\n",
    "model_final = sm.GLM(Y_train, X_train, family=sm.families.Binomial())\n",
    "result2=model_final.fit()\n",
    "print(result2.summary2())"
   ]
  },
  {
   "cell_type": "markdown",
   "metadata": {},
   "source": [
    "6d.) Now all remaining variables are significant.  The updated AIC (639.36) came down by about 5 points from the original run.  The updated Deviance (627.36) is a tick higher from original run.  \n",
    "I want to interpret the coefficients (I think it makes more sense to take the exponent of them)."
   ]
  },
  {
   "cell_type": "code",
   "execution_count": 13,
   "metadata": {},
   "outputs": [
    {
     "data": {
      "text/plain": [
       "const             153.118334\n",
       "Pclass              0.316222\n",
       "Age                 0.960842\n",
       "SibSp               0.697569\n",
       "Loc_Embarked_C      1.746712\n",
       "Sex__male           0.062213\n",
       "dtype: float64"
      ]
     },
     "execution_count": 13,
     "metadata": {},
     "output_type": "execute_result"
    }
   ],
   "source": [
    "np.exp(result2.params)"
   ]
  },
  {
   "cell_type": "markdown",
   "metadata": {},
   "source": [
    "Here are some interpretation of these coefficients (with exponent of coefficients in parenthesis):\n",
    "\n",
    "Pclass(0.316):  As class# goes up a unit (which means lower class), the odds of survival go down by a factor of .316.  This makes sense as the lifeboats which were limited in number were given to 1st and 2nd class passengers first.\n",
    "\n",
    "Age(.961): As age goes up a unit, the odds of surviving go down by a factor of .961.  This makes sense as children were probably given prioritity in the life boats.\n",
    "\n",
    "SibSp(.698):  As # of siblings/spouses of a passenger went up, odds of survival go down by a factor of .698.  Not sure why this is correlated with age or something as the older one is, the more likely would have a spouse?\n",
    "\n",
    "Loc_Embarked_C(1.747): If embarked from Cherbourg, the odds of survival go up by a factor of 1.747.  Not sure why this would be.\n",
    "\n",
    "Sex__male (.062):  If male, the odds of survival go down by a factor of .062.  This makes sense as women were given priority on the lifeboats.\n"
   ]
  },
  {
   "cell_type": "markdown",
   "metadata": {},
   "source": [
    "7.) Next want to run the model on the test dataset to get probabilities of survival.  Need to make sure we dropped same predictors as with the train dataset"
   ]
  },
  {
   "cell_type": "code",
   "execution_count": 14,
   "metadata": {},
   "outputs": [],
   "source": [
    "X_test.drop(['Fare','Loc_Embarked_Q','Parch'],axis=1,inplace=True)\n",
    "X_test.head()\n",
    "probabilities = result2.predict(X_test)"
   ]
  },
  {
   "cell_type": "markdown",
   "metadata": {},
   "source": [
    "8.) Can calculate the AUC value and create the AUC plot"
   ]
  },
  {
   "cell_type": "code",
   "execution_count": 18,
   "metadata": {},
   "outputs": [
    {
     "data": {
      "image/png": "[encoded data removed]",
      "text/plain": [
       "<Figure size 432x288 with 1 Axes>"
      ]
     },
     "metadata": {
      "needs_background": "light"
     },
     "output_type": "display_data"
    }
   ],
   "source": [
    "auc = roc_auc_score(Y_test,probabilities)\n",
    "fpr,tpr,threshold = roc_curve(Y_test,probabilities)\n",
    "plt.title('Titanic Survival Rates')\n",
    "plt.plot(fpr,tpr,'b',label = 'AUC = %0.2f' % auc)\n",
    "plt.legend(loc = 'lower right')\n",
    "plt.plot([0,1],[0,1], 'r--')\n",
    "plt.xlim([0,1])\n",
    "plt.ylim([0,1])\n",
    "plt.ylabel('True Positive Rate')\n",
    "plt.xlabel('False Positive Rate')\n",
    "plt.show()"
   ]
  },
  {
   "cell_type": "markdown",
   "metadata": {},
   "source": [
    "The calculated AUC value is .85 which is good as it's high, which means the model is doing a good job of classifying the dependent variable."
   ]
  },
  {
   "cell_type": "markdown",
   "metadata": {},
   "source": [
    "9.) Now want to calculate the optimal threshold probability, and use this to convert the predicted probabilities to predicted 1's and 0's for predicted survival rate."
   ]
  },
  {
   "cell_type": "code",
   "execution_count": 19,
   "metadata": {},
   "outputs": [
    {
     "data": {
      "text/plain": [
       "0.32556377039200574"
      ]
     },
     "execution_count": 19,
     "metadata": {},
     "output_type": "execute_result"
    }
   ],
   "source": [
    "optimal_idx = np.argmax(tpr - fpr)\n",
    "optimal_threshold = threshold[optimal_idx]\n",
    "optimal_threshold"
   ]
  },
  {
   "cell_type": "markdown",
   "metadata": {},
   "source": [
    "The optimal threshold turns out to be .326.  Now can make new predictions, and classify survival = 1 if probability above this value."
   ]
  },
  {
   "cell_type": "code",
   "execution_count": 20,
   "metadata": {},
   "outputs": [],
   "source": [
    "new_predictions = np.where(probabilities > optimal_threshold,1,0)"
   ]
  },
  {
   "cell_type": "markdown",
   "metadata": {},
   "source": [
    "10.) Now calcualte the confusion matrix to see how well the model classified"
   ]
  },
  {
   "cell_type": "code",
   "execution_count": 21,
   "metadata": {},
   "outputs": [
    {
     "data": {
      "text/html": [
       "<div>\n",
       "<style scoped>\n",
       "    .dataframe tbody tr th:only-of-type {\n",
       "        vertical-align: middle;\n",
       "    }\n",
       "\n",
       "    .dataframe tbody tr th {\n",
       "        vertical-align: top;\n",
       "    }\n",
       "\n",
       "    .dataframe thead th {\n",
       "        text-align: right;\n",
       "    }\n",
       "</style>\n",
       "<table border=\"1\" class=\"dataframe\">\n",
       "  <thead>\n",
       "    <tr style=\"text-align: right;\">\n",
       "      <th></th>\n",
       "      <th>Predicted No</th>\n",
       "      <th>Predicted Yes</th>\n",
       "    </tr>\n",
       "  </thead>\n",
       "  <tbody>\n",
       "    <tr>\n",
       "      <th>Actual No</th>\n",
       "      <td>84</td>\n",
       "      <td>23</td>\n",
       "    </tr>\n",
       "    <tr>\n",
       "      <th>Actual Yes</th>\n",
       "      <td>15</td>\n",
       "      <td>57</td>\n",
       "    </tr>\n",
       "  </tbody>\n",
       "</table>\n",
       "</div>"
      ],
      "text/plain": [
       "            Predicted No  Predicted Yes\n",
       "Actual No             84             23\n",
       "Actual Yes            15             57"
      ]
     },
     "execution_count": 21,
     "metadata": {},
     "output_type": "execute_result"
    }
   ],
   "source": [
    "new_confusion_mat = confusion_matrix(Y_test, new_predictions)\n",
    "new_confusion_df = pd.DataFrame(new_confusion_mat,index=['Actual No','Actual Yes'],columns=['Predicted No','Predicted Yes'])\n",
    "new_confusion_df"
   ]
  },
  {
   "cell_type": "markdown",
   "metadata": {},
   "source": [
    "11.) Can calculate Accuracy to evaluate the results."
   ]
  },
  {
   "cell_type": "code",
   "execution_count": 22,
   "metadata": {},
   "outputs": [
    {
     "data": {
      "text/plain": [
       "0.7877094972067039"
      ]
     },
     "execution_count": 22,
     "metadata": {},
     "output_type": "execute_result"
    }
   ],
   "source": [
    "accuracy_score(Y_test,new_predictions)"
   ]
  },
  {
   "cell_type": "markdown",
   "metadata": {},
   "source": [
    "The calculated Accuracy is .788, which is great!  This is how many evaluations are being \n",
    "classified correctly out of the total # of observations in test dataset."
   ]
  }
 ],
 "metadata": {
  "kernelspec": {
   "display_name": "Python 3",
   "language": "python",
   "name": "python3"
  },
  "language_info": {
   "codemirror_mode": {
    "name": "ipython",
    "version": 3
   },
   "file_extension": ".py",
   "mimetype": "text/x-python",
   "name": "python",
   "nbconvert_exporter": "python",
   "pygments_lexer": "ipython3",
   "version": "3.7.3"
  }
 },
 "nbformat": 4,
 "nbformat_minor": 2
}
